{
 "cells": [
  {
   "cell_type": "code",
   "execution_count": null,
   "metadata": {},
   "outputs": [],
   "source": [
    "# Choose four cities, create a dataframe and use loc attribute\n",
    "buchanan_df = vacation_data_df.loc[(vacation_data_df[\"City\"] == \"Buchanan\")]\n",
    "grand_lahou_df = vacation_data_df.loc[(vacation_data_df[\"City\"] == \"Grand-Lahou\")]\n",
    "takoradi_df = vacation_data_df.loc[(vacation_data_df[\"City\"] == \"Takoradi\")]\n",
    "mumford_df = vacation_data_df.loc[(vacation_data_df[\"City\"] == \"Mumford\")]"
   ]
  },
  {
   "cell_type": "code",
   "execution_count": null,
   "metadata": {},
   "outputs": [],
   "source": [
    "takoradi_df"
   ]
  },
  {
   "cell_type": "code",
   "execution_count": null,
   "metadata": {},
   "outputs": [],
   "source": [
    "# List of cities\n",
    "buchanan = (np.array(buchanan_df)[0,2], np.array(buchanan_df)[0,3])\n",
    "grand_lahou = (np.array(grand_lahou_df)[0,2], np.array(grand_lahou_df)[0,3])\n",
    "takoradi = (np.array(takoradi_df)[0,2], np.array(takoradi_df)[0,3])\n",
    "mumford = (np.array(mumford_df)[0,2], np.array(mumford_df)[0,3])"
   ]
  },
  {
   "cell_type": "code",
   "execution_count": null,
   "metadata": {},
   "outputs": [],
   "source": [
    "# Create dataframe of vacation cities\n",
    "city_marker_df = pd.concat([buchanan_df, grand_lahou_df, takoradi_df, mumford_df])"
   ]
  },
  {
   "cell_type": "code",
   "execution_count": null,
   "metadata": {},
   "outputs": [],
   "source": [
    "city_marker_df.head()"
   ]
  },
  {
   "cell_type": "code",
   "execution_count": null,
   "metadata": {},
   "outputs": [],
   "source": [
    "# Driving travel mode \n",
    "fig = gmaps.figure()\n",
    "\n",
    "# Travel Marker -**below code did not work** - after enabling directions API, it says I am not allowed to work with google maps. LA Also tried to help but no luck. \n",
    "african_cities_trip = gmaps.directions_layer(buchanan, mumford, waypoints=[grand_lahou, takoradi], \n",
    "    travel_mode ='DRIVING')\n",
    "fig.add_layer(african_cities_trip)\n",
    "fig\n",
    "#african_cities_trip = gmaps.directions_layer(buchanan, mumford)\n",
    "#fig.add_layer(african_cities_trip)\n",
    "#fig"
   ]
  },
  {
   "cell_type": "code",
   "execution_count": null,
   "metadata": {},
   "outputs": [],
   "source": [
    "# Create pop up marker for the DataFrame for layering on a map.\n",
    "info_box_template = \"\"\"\n",
    "<dl>\n",
    "<dt>Hotel Name</dt><dd>{Hotel Name}</dd>\n",
    "<dt>City</dt><dd>{City}</dd>\n",
    "<dt>Country</dt><dd>{Country}</dd>\n",
    "<dt>Current Weather</dt><dd>{Current Weather}</dd>\n",
    "</dl>\n",
    "\"\"\""
   ]
  },
  {
   "cell_type": "code",
   "execution_count": null,
   "metadata": {},
   "outputs": [],
   "source": [
    "# Store the dataframe row\n",
    "vacation_info = [info_box_template.format(**row) for index, row in city_marker_df.iterrows()]"
   ]
  },
  {
   "cell_type": "code",
   "execution_count": null,
   "metadata": {},
   "outputs": [],
   "source": [
    "# map with selected vacation spots.\n",
    "locations = city_marker_df[[\"Lat\", \"Lng\"]]\n",
    "\n",
    "fig = gmaps.figure(center=(5.0, -4.0), zoom_level=6.2)\n",
    "\n",
    "marker_layer = gmaps.marker_layer(locations, info_box_content=vacation_info)\n",
    "\n",
    "fig.add_layer(marker_layer)\n",
    "\n",
    "# Call fig data.\n",
    "fig"
   ]
  }
 ],
 "metadata": {
  "kernelspec": {
   "display_name": "PythonData",
   "language": "python",
   "name": "pythondata"
  },
  "language_info": {
   "codemirror_mode": {
    "name": "ipython",
    "version": 3
   },
   "file_extension": ".py",
   "mimetype": "text/x-python",
   "name": "python",
   "nbconvert_exporter": "python",
   "pygments_lexer": "ipython3",
   "version": "3.7.7"
  }
 },
 "nbformat": 4,
 "nbformat_minor": 4
}
